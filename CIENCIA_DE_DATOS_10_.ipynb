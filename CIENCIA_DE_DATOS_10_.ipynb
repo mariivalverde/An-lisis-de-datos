{
  "nbformat": 4,
  "nbformat_minor": 0,
  "metadata": {
    "colab": {
      "provenance": [],
      "authorship_tag": "ABX9TyN3v9oIo7daVGxwix4f0btN",
      "include_colab_link": true
    },
    "kernelspec": {
      "name": "python3",
      "display_name": "Python 3"
    },
    "language_info": {
      "name": "python"
    }
  },
  "cells": [
    {
      "cell_type": "markdown",
      "metadata": {
        "id": "view-in-github",
        "colab_type": "text"
      },
      "source": [
        "<a href=\"https://colab.research.google.com/github/mariivalverde/An-lisis-de-datos/blob/main/CIENCIA_DE_DATOS_10_.ipynb\" target=\"_parent\"><img src=\"https://colab.research.google.com/assets/colab-badge.svg\" alt=\"Open In Colab\"/></a>"
      ]
    },
    {
      "cell_type": "code",
      "execution_count": 5,
      "metadata": {
        "colab": {
          "base_uri": "https://localhost:8080/",
          "height": 1000
        },
        "id": "ALzhU0gJdG9O",
        "outputId": "7f6b73a6-46ec-4e31-bdac-2561a6cdfb1f"
      },
      "outputs": [
        {
          "output_type": "stream",
          "name": "stdout",
          "text": [
            "Requirement already satisfied: dash in /usr/local/lib/python3.11/dist-packages (3.0.4)\n",
            "Requirement already satisfied: pandas in /usr/local/lib/python3.11/dist-packages (2.2.2)\n",
            "Requirement already satisfied: plotly in /usr/local/lib/python3.11/dist-packages (5.24.1)\n",
            "Requirement already satisfied: Flask<3.1,>=1.0.4 in /usr/local/lib/python3.11/dist-packages (from dash) (3.0.3)\n",
            "Requirement already satisfied: Werkzeug<3.1 in /usr/local/lib/python3.11/dist-packages (from dash) (3.0.6)\n",
            "Requirement already satisfied: importlib-metadata in /usr/local/lib/python3.11/dist-packages (from dash) (8.7.0)\n",
            "Requirement already satisfied: typing-extensions>=4.1.1 in /usr/local/lib/python3.11/dist-packages (from dash) (4.14.0)\n",
            "Requirement already satisfied: requests in /usr/local/lib/python3.11/dist-packages (from dash) (2.32.3)\n",
            "Requirement already satisfied: retrying in /usr/local/lib/python3.11/dist-packages (from dash) (1.3.4)\n",
            "Requirement already satisfied: nest-asyncio in /usr/local/lib/python3.11/dist-packages (from dash) (1.6.0)\n",
            "Requirement already satisfied: setuptools in /usr/local/lib/python3.11/dist-packages (from dash) (75.2.0)\n",
            "Requirement already satisfied: numpy>=1.23.2 in /usr/local/lib/python3.11/dist-packages (from pandas) (2.0.2)\n",
            "Requirement already satisfied: python-dateutil>=2.8.2 in /usr/local/lib/python3.11/dist-packages (from pandas) (2.9.0.post0)\n",
            "Requirement already satisfied: pytz>=2020.1 in /usr/local/lib/python3.11/dist-packages (from pandas) (2025.2)\n",
            "Requirement already satisfied: tzdata>=2022.7 in /usr/local/lib/python3.11/dist-packages (from pandas) (2025.2)\n",
            "Requirement already satisfied: tenacity>=6.2.0 in /usr/local/lib/python3.11/dist-packages (from plotly) (9.1.2)\n",
            "Requirement already satisfied: packaging in /usr/local/lib/python3.11/dist-packages (from plotly) (24.2)\n",
            "Requirement already satisfied: Jinja2>=3.1.2 in /usr/local/lib/python3.11/dist-packages (from Flask<3.1,>=1.0.4->dash) (3.1.6)\n",
            "Requirement already satisfied: itsdangerous>=2.1.2 in /usr/local/lib/python3.11/dist-packages (from Flask<3.1,>=1.0.4->dash) (2.2.0)\n",
            "Requirement already satisfied: click>=8.1.3 in /usr/local/lib/python3.11/dist-packages (from Flask<3.1,>=1.0.4->dash) (8.2.1)\n",
            "Requirement already satisfied: blinker>=1.6.2 in /usr/local/lib/python3.11/dist-packages (from Flask<3.1,>=1.0.4->dash) (1.9.0)\n",
            "Requirement already satisfied: six>=1.5 in /usr/local/lib/python3.11/dist-packages (from python-dateutil>=2.8.2->pandas) (1.17.0)\n",
            "Requirement already satisfied: MarkupSafe>=2.1.1 in /usr/local/lib/python3.11/dist-packages (from Werkzeug<3.1->dash) (3.0.2)\n",
            "Requirement already satisfied: zipp>=3.20 in /usr/local/lib/python3.11/dist-packages (from importlib-metadata->dash) (3.22.0)\n",
            "Requirement already satisfied: charset-normalizer<4,>=2 in /usr/local/lib/python3.11/dist-packages (from requests->dash) (3.4.2)\n",
            "Requirement already satisfied: idna<4,>=2.5 in /usr/local/lib/python3.11/dist-packages (from requests->dash) (3.10)\n",
            "Requirement already satisfied: urllib3<3,>=1.21.1 in /usr/local/lib/python3.11/dist-packages (from requests->dash) (2.4.0)\n",
            "Requirement already satisfied: certifi>=2017.4.17 in /usr/local/lib/python3.11/dist-packages (from requests->dash) (2025.4.26)\n"
          ]
        },
        {
          "output_type": "display_data",
          "data": {
            "text/plain": [
              "<IPython.core.display.Javascript object>"
            ],
            "application/javascript": [
              "(async (port, path, width, height, cache, element) => {\n",
              "    if (!google.colab.kernel.accessAllowed && !cache) {\n",
              "      return;\n",
              "    }\n",
              "    element.appendChild(document.createTextNode(''));\n",
              "    const url = await google.colab.kernel.proxyPort(port, {cache});\n",
              "    const iframe = document.createElement('iframe');\n",
              "    iframe.src = new URL(path, url).toString();\n",
              "    iframe.height = height;\n",
              "    iframe.width = width;\n",
              "    iframe.style.border = 0;\n",
              "    iframe.allow = [\n",
              "        'accelerometer',\n",
              "        'autoplay',\n",
              "        'camera',\n",
              "        'clipboard-read',\n",
              "        'clipboard-write',\n",
              "        'gyroscope',\n",
              "        'magnetometer',\n",
              "        'microphone',\n",
              "        'serial',\n",
              "        'usb',\n",
              "        'xr-spatial-tracking',\n",
              "    ].join('; ');\n",
              "    element.appendChild(iframe);\n",
              "  })(8050, \"/\", \"100%\", 650, false, window.element)"
            ]
          },
          "metadata": {}
        }
      ],
      "source": [
        "!pip install dash pandas plotly\n",
        "\n",
        "\n",
        "import pandas as pd\n",
        "import dash\n",
        "from dash import html, dcc\n",
        "import plotly.express as px\n",
        "from dash.dependencies import Input, Output\n",
        "\n",
        "# Cargar datos\n",
        "spacex_df = pd.read_csv(\"spacex_launch_dash.csv\")\n",
        "\n",
        "# Crear app\n",
        "app = dash.Dash(__name__)\n",
        "\n",
        "# Lista de sitios únicos\n",
        "launch_sites = spacex_df['Launch Site'].unique()\n",
        "site_options = [{'label': site, 'value': site} for site in launch_sites]\n",
        "site_options.insert(0, {'label': 'Todos los sitios', 'value': 'ALL'})\n",
        "\n",
        "# Layout\n",
        "app.layout = html.Div(children=[\n",
        "    html.H1('SpaceX Launch Records Dashboard', style={'textAlign': 'center'}),\n",
        "\n",
        "    # Dropdown para seleccionar sitio\n",
        "    dcc.Dropdown(id='site-dropdown',\n",
        "                 options=site_options,\n",
        "                 value='ALL',\n",
        "                 placeholder='Seleccione un sitio de lanzamiento',\n",
        "                 searchable=True),\n",
        "\n",
        "    # Gráfico de pastel\n",
        "    html.Div(dcc.Graph(id='success-pie-chart')),\n",
        "\n",
        "    # Slider de rango de payload\n",
        "    html.P(\"Seleccione el rango de carga útil (kg):\"),\n",
        "    dcc.RangeSlider(id='payload-slider',\n",
        "                    min=spacex_df['Payload Mass (kg)'].min(),\n",
        "                    max=spacex_df['Payload Mass (kg)'].max(),\n",
        "                    step=100,\n",
        "                    value=[spacex_df['Payload Mass (kg)'].min(), spacex_df['Payload Mass (kg)'].max()],\n",
        "                    marks={int(i): str(int(i)) for i in range(0, int(spacex_df['Payload Mass (kg)'].max())+1, 2000)}),\n",
        "\n",
        "    # Gráfico de dispersión\n",
        "    html.Div(dcc.Graph(id='success-payload-scatter')),\n",
        "])\n",
        "\n",
        "# Callbacks\n",
        "\n",
        "# Pie chart\n",
        "@app.callback(Output('success-pie-chart', 'figure'),\n",
        "              Input('site-dropdown', 'value'))\n",
        "def update_pie_chart(site):\n",
        "    if site == 'ALL':\n",
        "        fig = px.pie(spacex_df, names='Launch Site', title='Total de Éxitos por Sitio de Lanzamiento')\n",
        "    else:\n",
        "        filtered_df = spacex_df[spacex_df['Launch Site'] == site]\n",
        "        fig = px.pie(filtered_df, names='class', title=f'Éxito vs Falla en {site}',\n",
        "                     color_discrete_map={1: 'green', 0: 'red'},\n",
        "                     labels={'class': 'Resultado'})\n",
        "    return fig\n",
        "\n",
        "# Scatter Plot\n",
        "@app.callback(Output('success-payload-scatter', 'figure'),\n",
        "              [Input('site-dropdown', 'value'),\n",
        "               Input('payload-slider', 'value')])\n",
        "def update_scatter(site, payload_range):\n",
        "    low, high = payload_range\n",
        "    filtered_df = spacex_df[(spacex_df['Payload Mass (kg)'] >= low) &\n",
        "                            (spacex_df['Payload Mass (kg)'] <= high)]\n",
        "\n",
        "    if site != 'ALL':\n",
        "        filtered_df = filtered_df[filtered_df['Launch Site'] == site]\n",
        "\n",
        "    fig = px.scatter(filtered_df, x='Payload Mass (kg)', y='class',\n",
        "                     color='Booster Version',\n",
        "                     title='Payload vs Resultado del Lanzamiento',\n",
        "                     labels={'class': 'Resultado'})\n",
        "    return fig\n",
        "\n",
        "# Ejecutar app\n",
        "if __name__ == '__main__':\n",
        "    app.run(debug=True)\n"
      ]
    }
  ]
}